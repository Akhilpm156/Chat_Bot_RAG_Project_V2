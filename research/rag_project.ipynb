{
 "cells": [
  {
   "cell_type": "code",
   "execution_count": 1,
   "metadata": {
    "execution": {
     "iopub.execute_input": "2025-04-19T12:31:18.713000Z",
     "iopub.status.busy": "2025-04-19T12:31:18.712807Z",
     "iopub.status.idle": "2025-04-19T12:32:25.532925Z",
     "shell.execute_reply": "2025-04-19T12:32:25.531740Z",
     "shell.execute_reply.started": "2025-04-19T12:31:18.712979Z"
    },
    "trusted": true
   },
   "outputs": [],
   "source": [
    "%%capture --no-stderr\n",
    "%pip install numpy\n",
    "%pip install torch\n",
    "%pip install transformers\n",
    "%pip install scipy\n",
    "%pip install pandas langchain langchain-community langchain-chroma langchain-huggingface\n",
    "%pip install accelerate"
   ]
  },
  {
   "cell_type": "code",
   "execution_count": 2,
   "metadata": {
    "execution": {
     "iopub.execute_input": "2025-04-19T12:32:25.534651Z",
     "iopub.status.busy": "2025-04-19T12:32:25.534367Z",
     "iopub.status.idle": "2025-04-19T12:32:25.538345Z",
     "shell.execute_reply": "2025-04-19T12:32:25.537673Z",
     "shell.execute_reply.started": "2025-04-19T12:32:25.534619Z"
    },
    "trusted": true
   },
   "outputs": [],
   "source": [
    "import warnings\n",
    "warnings.filterwarnings('ignore')"
   ]
  },
  {
   "cell_type": "code",
   "execution_count": 3,
   "metadata": {
    "_kg_hide-output": true,
    "execution": {
     "iopub.execute_input": "2025-04-19T12:48:38.896513Z",
     "iopub.status.busy": "2025-04-19T12:48:38.896196Z",
     "iopub.status.idle": "2025-04-19T12:48:38.899935Z",
     "shell.execute_reply": "2025-04-19T12:48:38.899196Z",
     "shell.execute_reply.started": "2025-04-19T12:48:38.896488Z"
    },
    "trusted": true
   },
   "outputs": [],
   "source": [
    "# Hangging Face Token for downloading meta Llama 2 7b model\n",
    "# HF_TOKEN = input(\"Enter your Hugging Face token: \")"
   ]
  },
  {
   "cell_type": "code",
   "execution_count": 4,
   "metadata": {
    "execution": {
     "iopub.execute_input": "2025-04-19T12:32:25.555270Z",
     "iopub.status.busy": "2025-04-19T12:32:25.554987Z",
     "iopub.status.idle": "2025-04-19T12:32:46.565010Z",
     "shell.execute_reply": "2025-04-19T12:32:46.564389Z",
     "shell.execute_reply.started": "2025-04-19T12:32:25.555250Z"
    },
    "trusted": true
   },
   "outputs": [],
   "source": [
    "from transformers import AutoTokenizer, AutoModelForCausalLM, pipeline\n",
    "from langchain_huggingface import HuggingFacePipeline\n",
    "import torch\n",
    "from langchain_chroma import Chroma\n",
    "from langchain.text_splitter import TokenTextSplitter\n",
    "from langchain.schema import Document\n",
    "from langchain_huggingface import HuggingFaceEmbeddings\n",
    "from langchain.memory import ConversationBufferMemory\n",
    "from langchain.chains import ConversationalRetrievalChain\n",
    "from pathlib import Path\n",
    "import re\n",
    "import spacy"
   ]
  },
  {
   "cell_type": "code",
   "execution_count": 5,
   "metadata": {},
   "outputs": [
    {
     "data": {
      "text/plain": [
       "'c:\\\\Users\\\\HP\\\\Desktop\\\\Rag_Based_Chatbot_Project\\\\research'"
      ]
     },
     "execution_count": 5,
     "metadata": {},
     "output_type": "execute_result"
    }
   ],
   "source": [
    "%pwd"
   ]
  },
  {
   "cell_type": "code",
   "execution_count": 6,
   "metadata": {},
   "outputs": [
    {
     "data": {
      "text/plain": [
       "'c:\\\\Users\\\\HP\\\\Desktop\\\\Rag_Based_Chatbot_Project'"
      ]
     },
     "execution_count": 6,
     "metadata": {},
     "output_type": "execute_result"
    }
   ],
   "source": [
    "import os\n",
    "os.chdir('../')\n",
    "%pwd"
   ]
  },
  {
   "cell_type": "code",
   "execution_count": 7,
   "metadata": {
    "execution": {
     "iopub.execute_input": "2025-04-19T12:32:46.567115Z",
     "iopub.status.busy": "2025-04-19T12:32:46.566639Z",
     "iopub.status.idle": "2025-04-19T12:32:46.572035Z",
     "shell.execute_reply": "2025-04-19T12:32:46.571178Z",
     "shell.execute_reply.started": "2025-04-19T12:32:46.567093Z"
    },
    "trusted": true
   },
   "outputs": [],
   "source": [
    "import json\n",
    "\n",
    "with open('.\\data\\project_1_publications.json', 'r') as file:\n",
    "    data = json.load(file)"
   ]
  },
  {
   "cell_type": "code",
   "execution_count": null,
   "metadata": {},
   "outputs": [
    {
     "data": {
      "text/plain": [
       "35"
      ]
     },
     "execution_count": 7,
     "metadata": {},
     "output_type": "execute_result"
    }
   ],
   "source": [
    "len(data)"
   ]
  },
  {
   "cell_type": "code",
   "execution_count": null,
   "metadata": {},
   "outputs": [
    {
     "name": "stdout",
     "output_type": "stream",
     "text": [
      "dict_keys(['id', 'username', 'license', 'title', 'publication_description'])\n"
     ]
    }
   ],
   "source": [
    "print(data[0].keys())"
   ]
  },
  {
   "cell_type": "code",
   "execution_count": null,
   "metadata": {},
   "outputs": [
    {
     "name": "stdout",
     "output_type": "stream",
     "text": [
      "Collecting en-core-web-sm==3.8.0\n",
      "  Downloading https://github.com/explosion/spacy-models/releases/download/en_core_web_sm-3.8.0/en_core_web_sm-3.8.0-py3-none-any.whl (12.8 MB)\n",
      "     ---------------------------------------- 0.0/12.8 MB ? eta -:--:--\n",
      "     ---------------------------------------- 0.0/12.8 MB ? eta -:--:--\n",
      "      --------------------------------------- 0.3/12.8 MB ? eta -:--:--\n",
      "      --------------------------------------- 0.3/12.8 MB ? eta -:--:--\n",
      "      --------------------------------------- 0.3/12.8 MB ? eta -:--:--\n",
      "     - ------------------------------------- 0.5/12.8 MB 541.6 kB/s eta 0:00:23\n",
      "     - ------------------------------------- 0.5/12.8 MB 541.6 kB/s eta 0:00:23\n",
      "     - ------------------------------------- 0.5/12.8 MB 541.6 kB/s eta 0:00:23\n",
      "     -- ------------------------------------ 0.8/12.8 MB 453.5 kB/s eta 0:00:27\n",
      "     -- ------------------------------------ 0.8/12.8 MB 453.5 kB/s eta 0:00:27\n",
      "     -- ------------------------------------ 0.8/12.8 MB 453.5 kB/s eta 0:00:27\n",
      "     --- ----------------------------------- 1.0/12.8 MB 416.1 kB/s eta 0:00:29\n",
      "     --- ----------------------------------- 1.0/12.8 MB 416.1 kB/s eta 0:00:29\n",
      "     --- ----------------------------------- 1.0/12.8 MB 416.1 kB/s eta 0:00:29\n",
      "     --- ----------------------------------- 1.0/12.8 MB 416.1 kB/s eta 0:00:29\n",
      "     --- ----------------------------------- 1.3/12.8 MB 390.2 kB/s eta 0:00:30\n",
      "     --- ----------------------------------- 1.3/12.8 MB 390.2 kB/s eta 0:00:30\n",
      "     --- ----------------------------------- 1.3/12.8 MB 390.2 kB/s eta 0:00:30\n",
      "     --- ----------------------------------- 1.3/12.8 MB 390.2 kB/s eta 0:00:30\n",
      "     ---- ---------------------------------- 1.6/12.8 MB 369.5 kB/s eta 0:00:31\n",
      "     ---- ---------------------------------- 1.6/12.8 MB 369.5 kB/s eta 0:00:31\n",
      "     ---- ---------------------------------- 1.6/12.8 MB 369.5 kB/s eta 0:00:31\n",
      "     ----- --------------------------------- 1.8/12.8 MB 368.8 kB/s eta 0:00:30\n",
      "     ----- --------------------------------- 1.8/12.8 MB 368.8 kB/s eta 0:00:30\n",
      "     ----- --------------------------------- 1.8/12.8 MB 368.8 kB/s eta 0:00:30\n",
      "     ------ -------------------------------- 2.1/12.8 MB 370.5 kB/s eta 0:00:29\n",
      "     ------ -------------------------------- 2.1/12.8 MB 370.5 kB/s eta 0:00:29\n",
      "     ------ -------------------------------- 2.1/12.8 MB 370.5 kB/s eta 0:00:29\n",
      "     ------ -------------------------------- 2.1/12.8 MB 370.5 kB/s eta 0:00:29\n",
      "     ------- ------------------------------- 2.4/12.8 MB 359.8 kB/s eta 0:00:30\n",
      "     ------- ------------------------------- 2.4/12.8 MB 359.8 kB/s eta 0:00:30\n",
      "     ------- ------------------------------- 2.4/12.8 MB 359.8 kB/s eta 0:00:30\n",
      "     ------- ------------------------------- 2.4/12.8 MB 359.8 kB/s eta 0:00:30\n",
      "     ------- ------------------------------- 2.6/12.8 MB 352.8 kB/s eta 0:00:29\n",
      "     ------- ------------------------------- 2.6/12.8 MB 352.8 kB/s eta 0:00:29\n",
      "     ------- ------------------------------- 2.6/12.8 MB 352.8 kB/s eta 0:00:29\n",
      "     ------- ------------------------------- 2.6/12.8 MB 352.8 kB/s eta 0:00:29\n",
      "     ------- ------------------------------- 2.6/12.8 MB 352.8 kB/s eta 0:00:29\n",
      "     -------- ------------------------------ 2.9/12.8 MB 335.6 kB/s eta 0:00:30\n",
      "     -------- ------------------------------ 2.9/12.8 MB 335.6 kB/s eta 0:00:30\n",
      "     -------- ------------------------------ 2.9/12.8 MB 335.6 kB/s eta 0:00:30\n",
      "     -------- ------------------------------ 2.9/12.8 MB 335.6 kB/s eta 0:00:30\n",
      "     -------- ------------------------------ 2.9/12.8 MB 335.6 kB/s eta 0:00:30\n",
      "     --------- ----------------------------- 3.1/12.8 MB 325.5 kB/s eta 0:00:30\n",
      "     --------- ----------------------------- 3.1/12.8 MB 325.5 kB/s eta 0:00:30\n",
      "     --------- ----------------------------- 3.1/12.8 MB 325.5 kB/s eta 0:00:30\n",
      "     --------- ----------------------------- 3.1/12.8 MB 325.5 kB/s eta 0:00:30\n",
      "     --------- ----------------------------- 3.1/12.8 MB 325.5 kB/s eta 0:00:30\n",
      "     --------- ----------------------------- 3.1/12.8 MB 325.5 kB/s eta 0:00:30\n",
      "     ---------- ---------------------------- 3.4/12.8 MB 311.6 kB/s eta 0:00:31\n",
      "     ---------- ---------------------------- 3.4/12.8 MB 311.6 kB/s eta 0:00:31\n",
      "     ---------- ---------------------------- 3.4/12.8 MB 311.6 kB/s eta 0:00:31\n",
      "     ---------- ---------------------------- 3.4/12.8 MB 311.6 kB/s eta 0:00:31\n",
      "     ---------- ---------------------------- 3.4/12.8 MB 311.6 kB/s eta 0:00:31\n",
      "     ---------- ---------------------------- 3.4/12.8 MB 311.6 kB/s eta 0:00:31\n",
      "     ----------- --------------------------- 3.7/12.8 MB 297.1 kB/s eta 0:00:31\n",
      "     ----------- --------------------------- 3.7/12.8 MB 297.1 kB/s eta 0:00:31\n",
      "     ----------- --------------------------- 3.7/12.8 MB 297.1 kB/s eta 0:00:31\n",
      "     ----------- --------------------------- 3.7/12.8 MB 297.1 kB/s eta 0:00:31\n",
      "     ----------- --------------------------- 3.7/12.8 MB 297.1 kB/s eta 0:00:31\n",
      "     ----------- --------------------------- 3.7/12.8 MB 297.1 kB/s eta 0:00:31\n",
      "     ----------- --------------------------- 3.9/12.8 MB 289.6 kB/s eta 0:00:31\n",
      "     ----------- --------------------------- 3.9/12.8 MB 289.6 kB/s eta 0:00:31\n",
      "     ----------- --------------------------- 3.9/12.8 MB 289.6 kB/s eta 0:00:31\n",
      "     ----------- --------------------------- 3.9/12.8 MB 289.6 kB/s eta 0:00:31\n",
      "     ----------- --------------------------- 3.9/12.8 MB 289.6 kB/s eta 0:00:31\n",
      "     ----------- --------------------------- 3.9/12.8 MB 289.6 kB/s eta 0:00:31\n",
      "     ------------ -------------------------- 4.2/12.8 MB 280.2 kB/s eta 0:00:31\n",
      "     ------------ -------------------------- 4.2/12.8 MB 280.2 kB/s eta 0:00:31\n",
      "     ------------ -------------------------- 4.2/12.8 MB 280.2 kB/s eta 0:00:31\n",
      "     ------------ -------------------------- 4.2/12.8 MB 280.2 kB/s eta 0:00:31\n",
      "     ------------ -------------------------- 4.2/12.8 MB 280.2 kB/s eta 0:00:31\n",
      "     ------------ -------------------------- 4.2/12.8 MB 280.2 kB/s eta 0:00:31\n",
      "     ------------- ------------------------- 4.5/12.8 MB 275.9 kB/s eta 0:00:31\n",
      "     ------------- ------------------------- 4.5/12.8 MB 275.9 kB/s eta 0:00:31\n",
      "     ------------- ------------------------- 4.5/12.8 MB 275.9 kB/s eta 0:00:31\n",
      "     ------------- ------------------------- 4.5/12.8 MB 275.9 kB/s eta 0:00:31\n",
      "     ------------- ------------------------- 4.5/12.8 MB 275.9 kB/s eta 0:00:31\n",
      "     -------------- ------------------------ 4.7/12.8 MB 270.9 kB/s eta 0:00:30\n",
      "     -------------- ------------------------ 4.7/12.8 MB 270.9 kB/s eta 0:00:30\n",
      "     -------------- ------------------------ 4.7/12.8 MB 270.9 kB/s eta 0:00:30\n",
      "     -------------- ------------------------ 4.7/12.8 MB 270.9 kB/s eta 0:00:30\n",
      "     -------------- ------------------------ 4.7/12.8 MB 270.9 kB/s eta 0:00:30\n",
      "     --------------- ----------------------- 5.0/12.8 MB 270.1 kB/s eta 0:00:29\n",
      "     --------------- ----------------------- 5.0/12.8 MB 270.1 kB/s eta 0:00:29\n",
      "     --------------- ----------------------- 5.0/12.8 MB 270.1 kB/s eta 0:00:29\n",
      "     --------------- ----------------------- 5.0/12.8 MB 270.1 kB/s eta 0:00:29\n",
      "     --------------- ----------------------- 5.0/12.8 MB 270.1 kB/s eta 0:00:29\n",
      "     --------------- ----------------------- 5.2/12.8 MB 269.0 kB/s eta 0:00:29\n",
      "     --------------- ----------------------- 5.2/12.8 MB 269.0 kB/s eta 0:00:29\n",
      "     --------------- ----------------------- 5.2/12.8 MB 269.0 kB/s eta 0:00:29\n",
      "     --------------- ----------------------- 5.2/12.8 MB 269.0 kB/s eta 0:00:29\n",
      "     --------------- ----------------------- 5.2/12.8 MB 269.0 kB/s eta 0:00:29\n",
      "     ---------------- ---------------------- 5.5/12.8 MB 267.2 kB/s eta 0:00:28\n",
      "     ---------------- ---------------------- 5.5/12.8 MB 267.2 kB/s eta 0:00:28\n",
      "     ---------------- ---------------------- 5.5/12.8 MB 267.2 kB/s eta 0:00:28\n",
      "     ---------------- ---------------------- 5.5/12.8 MB 267.2 kB/s eta 0:00:28\n",
      "     ----------------- --------------------- 5.8/12.8 MB 267.9 kB/s eta 0:00:27\n",
      "     ----------------- --------------------- 5.8/12.8 MB 267.9 kB/s eta 0:00:27\n",
      "     ----------------- --------------------- 5.8/12.8 MB 267.9 kB/s eta 0:00:27\n",
      "     ----------------- --------------------- 5.8/12.8 MB 267.9 kB/s eta 0:00:27\n",
      "     ----------------- --------------------- 5.8/12.8 MB 267.9 kB/s eta 0:00:27\n",
      "     ------------------ -------------------- 6.0/12.8 MB 269.0 kB/s eta 0:00:26\n",
      "     ------------------ -------------------- 6.0/12.8 MB 269.0 kB/s eta 0:00:26\n",
      "     ------------------ -------------------- 6.0/12.8 MB 269.0 kB/s eta 0:00:26\n",
      "     ------------------ -------------------- 6.0/12.8 MB 269.0 kB/s eta 0:00:26\n",
      "     ------------------- ------------------- 6.3/12.8 MB 268.2 kB/s eta 0:00:25\n",
      "     ------------------- ------------------- 6.3/12.8 MB 268.2 kB/s eta 0:00:25\n",
      "     ------------------- ------------------- 6.3/12.8 MB 268.2 kB/s eta 0:00:25\n",
      "     ------------------- ------------------- 6.3/12.8 MB 268.2 kB/s eta 0:00:25\n",
      "     ------------------- ------------------- 6.3/12.8 MB 268.2 kB/s eta 0:00:25\n",
      "     ------------------- ------------------- 6.6/12.8 MB 267.9 kB/s eta 0:00:24\n",
      "     ------------------- ------------------- 6.6/12.8 MB 267.9 kB/s eta 0:00:24\n",
      "     ------------------- ------------------- 6.6/12.8 MB 267.9 kB/s eta 0:00:24\n",
      "     ------------------- ------------------- 6.6/12.8 MB 267.9 kB/s eta 0:00:24\n",
      "     ------------------- ------------------- 6.6/12.8 MB 267.9 kB/s eta 0:00:24\n",
      "     -------------------- ------------------ 6.8/12.8 MB 267.8 kB/s eta 0:00:23\n",
      "     -------------------- ------------------ 6.8/12.8 MB 267.8 kB/s eta 0:00:23\n",
      "     -------------------- ------------------ 6.8/12.8 MB 267.8 kB/s eta 0:00:23\n",
      "     -------------------- ------------------ 6.8/12.8 MB 267.8 kB/s eta 0:00:23\n",
      "     --------------------- ----------------- 7.1/12.8 MB 267.9 kB/s eta 0:00:22\n",
      "     --------------------- ----------------- 7.1/12.8 MB 267.9 kB/s eta 0:00:22\n",
      "     --------------------- ----------------- 7.1/12.8 MB 267.9 kB/s eta 0:00:22\n",
      "     --------------------- ----------------- 7.1/12.8 MB 267.9 kB/s eta 0:00:22\n",
      "     --------------------- ----------------- 7.1/12.8 MB 267.9 kB/s eta 0:00:22\n",
      "     --------------------- ----------------- 7.1/12.8 MB 267.9 kB/s eta 0:00:22\n",
      "     ---------------------- ---------------- 7.3/12.8 MB 264.4 kB/s eta 0:00:21\n",
      "     ---------------------- ---------------- 7.3/12.8 MB 264.4 kB/s eta 0:00:21\n",
      "     ---------------------- ---------------- 7.3/12.8 MB 264.4 kB/s eta 0:00:21\n",
      "     ---------------------- ---------------- 7.3/12.8 MB 264.4 kB/s eta 0:00:21\n",
      "     ---------------------- ---------------- 7.3/12.8 MB 264.4 kB/s eta 0:00:21\n",
      "     ---------------------- ---------------- 7.3/12.8 MB 264.4 kB/s eta 0:00:21\n",
      "     ----------------------- --------------- 7.6/12.8 MB 263.2 kB/s eta 0:00:20\n",
      "     ----------------------- --------------- 7.6/12.8 MB 263.2 kB/s eta 0:00:20\n",
      "     ----------------------- --------------- 7.6/12.8 MB 263.2 kB/s eta 0:00:20\n",
      "     ----------------------- --------------- 7.6/12.8 MB 263.2 kB/s eta 0:00:20\n",
      "     ----------------------- --------------- 7.6/12.8 MB 263.2 kB/s eta 0:00:20\n",
      "     ----------------------- --------------- 7.9/12.8 MB 261.6 kB/s eta 0:00:19\n",
      "     ----------------------- --------------- 7.9/12.8 MB 261.6 kB/s eta 0:00:19\n",
      "     ----------------------- --------------- 7.9/12.8 MB 261.6 kB/s eta 0:00:19\n",
      "     ----------------------- --------------- 7.9/12.8 MB 261.6 kB/s eta 0:00:19\n",
      "     ----------------------- --------------- 7.9/12.8 MB 261.6 kB/s eta 0:00:19\n",
      "     ------------------------ -------------- 8.1/12.8 MB 255.8 kB/s eta 0:00:19\n",
      "     ------------------------ -------------- 8.1/12.8 MB 255.8 kB/s eta 0:00:19\n",
      "     ------------------------ -------------- 8.1/12.8 MB 255.8 kB/s eta 0:00:19\n",
      "     ------------------------ -------------- 8.1/12.8 MB 255.8 kB/s eta 0:00:19\n",
      "     ------------------------ -------------- 8.1/12.8 MB 255.8 kB/s eta 0:00:19\n",
      "     ------------------------- ------------- 8.4/12.8 MB 249.7 kB/s eta 0:00:18\n",
      "     ------------------------- ------------- 8.4/12.8 MB 249.7 kB/s eta 0:00:18\n",
      "     ------------------------- ------------- 8.4/12.8 MB 249.7 kB/s eta 0:00:18\n",
      "     ------------------------- ------------- 8.4/12.8 MB 249.7 kB/s eta 0:00:18\n",
      "     ------------------------- ------------- 8.4/12.8 MB 249.7 kB/s eta 0:00:18\n",
      "     ------------------------- ------------- 8.4/12.8 MB 249.7 kB/s eta 0:00:18\n",
      "     -------------------------- ------------ 8.7/12.8 MB 246.3 kB/s eta 0:00:17\n",
      "     -------------------------- ------------ 8.7/12.8 MB 246.3 kB/s eta 0:00:17\n",
      "     -------------------------- ------------ 8.7/12.8 MB 246.3 kB/s eta 0:00:17\n",
      "     -------------------------- ------------ 8.7/12.8 MB 246.3 kB/s eta 0:00:17\n",
      "     --------------------------- ----------- 8.9/12.8 MB 245.2 kB/s eta 0:00:16\n",
      "     --------------------------- ----------- 8.9/12.8 MB 245.2 kB/s eta 0:00:16\n",
      "     --------------------------- ----------- 8.9/12.8 MB 245.2 kB/s eta 0:00:16\n",
      "     --------------------------- ----------- 8.9/12.8 MB 245.2 kB/s eta 0:00:16\n",
      "     --------------------------- ----------- 8.9/12.8 MB 245.2 kB/s eta 0:00:16\n",
      "     --------------------------- ----------- 9.2/12.8 MB 239.0 kB/s eta 0:00:16\n",
      "     --------------------------- ----------- 9.2/12.8 MB 239.0 kB/s eta 0:00:16\n",
      "     --------------------------- ----------- 9.2/12.8 MB 239.0 kB/s eta 0:00:16\n",
      "     --------------------------- ----------- 9.2/12.8 MB 239.0 kB/s eta 0:00:16\n",
      "     ---------------------------- ---------- 9.4/12.8 MB 238.9 kB/s eta 0:00:15\n",
      "     ---------------------------- ---------- 9.4/12.8 MB 238.9 kB/s eta 0:00:15\n",
      "     ---------------------------- ---------- 9.4/12.8 MB 238.9 kB/s eta 0:00:15\n",
      "     ---------------------------- ---------- 9.4/12.8 MB 238.9 kB/s eta 0:00:15\n",
      "     ---------------------------- ---------- 9.4/12.8 MB 238.9 kB/s eta 0:00:15\n",
      "     ----------------------------- --------- 9.7/12.8 MB 237.4 kB/s eta 0:00:14\n",
      "     ----------------------------- --------- 9.7/12.8 MB 237.4 kB/s eta 0:00:14\n",
      "     ----------------------------- --------- 9.7/12.8 MB 237.4 kB/s eta 0:00:14\n",
      "     ----------------------------- --------- 9.7/12.8 MB 237.4 kB/s eta 0:00:14\n",
      "     ----------------------------- --------- 9.7/12.8 MB 237.4 kB/s eta 0:00:14\n",
      "     ----------------------------- -------- 10.0/12.8 MB 238.0 kB/s eta 0:00:12\n",
      "     ----------------------------- -------- 10.0/12.8 MB 238.0 kB/s eta 0:00:12\n",
      "     ----------------------------- -------- 10.0/12.8 MB 238.0 kB/s eta 0:00:12\n",
      "     ----------------------------- -------- 10.0/12.8 MB 238.0 kB/s eta 0:00:12\n",
      "     ----------------------------- -------- 10.0/12.8 MB 238.0 kB/s eta 0:00:12\n",
      "     ------------------------------ ------- 10.2/12.8 MB 237.7 kB/s eta 0:00:11\n",
      "     ------------------------------ ------- 10.2/12.8 MB 237.7 kB/s eta 0:00:11\n",
      "     ------------------------------ ------- 10.2/12.8 MB 237.7 kB/s eta 0:00:11\n",
      "     ------------------------------ ------- 10.2/12.8 MB 237.7 kB/s eta 0:00:11\n",
      "     ------------------------------- ------ 10.5/12.8 MB 239.8 kB/s eta 0:00:10\n",
      "     ------------------------------- ------ 10.5/12.8 MB 239.8 kB/s eta 0:00:10\n",
      "     ------------------------------- ------ 10.5/12.8 MB 239.8 kB/s eta 0:00:10\n",
      "     ------------------------------- ------ 10.5/12.8 MB 239.8 kB/s eta 0:00:10\n",
      "     ------------------------------- ------ 10.5/12.8 MB 239.8 kB/s eta 0:00:10\n",
      "     ------------------------------- ------ 10.5/12.8 MB 239.8 kB/s eta 0:00:10\n",
      "     ------------------------------- ------ 10.7/12.8 MB 240.7 kB/s eta 0:00:09\n",
      "     ------------------------------- ------ 10.7/12.8 MB 240.7 kB/s eta 0:00:09\n",
      "     ------------------------------- ------ 10.7/12.8 MB 240.7 kB/s eta 0:00:09\n",
      "     ------------------------------- ------ 10.7/12.8 MB 240.7 kB/s eta 0:00:09\n",
      "     ------------------------------- ------ 10.7/12.8 MB 240.7 kB/s eta 0:00:09\n",
      "     ------------------------------- ------ 10.7/12.8 MB 240.7 kB/s eta 0:00:09\n",
      "     -------------------------------- ----- 11.0/12.8 MB 241.1 kB/s eta 0:00:08\n",
      "     -------------------------------- ----- 11.0/12.8 MB 241.1 kB/s eta 0:00:08\n",
      "     -------------------------------- ----- 11.0/12.8 MB 241.1 kB/s eta 0:00:08\n",
      "     -------------------------------- ----- 11.0/12.8 MB 241.1 kB/s eta 0:00:08\n",
      "     --------------------------------- ---- 11.3/12.8 MB 244.7 kB/s eta 0:00:07\n",
      "     --------------------------------- ---- 11.3/12.8 MB 244.7 kB/s eta 0:00:07\n",
      "     --------------------------------- ---- 11.3/12.8 MB 244.7 kB/s eta 0:00:07\n",
      "     --------------------------------- ---- 11.3/12.8 MB 244.7 kB/s eta 0:00:07\n",
      "     ---------------------------------- --- 11.5/12.8 MB 246.7 kB/s eta 0:00:06\n",
      "     ---------------------------------- --- 11.5/12.8 MB 246.7 kB/s eta 0:00:06\n",
      "     ---------------------------------- --- 11.5/12.8 MB 246.7 kB/s eta 0:00:06\n",
      "     ---------------------------------- --- 11.5/12.8 MB 246.7 kB/s eta 0:00:06\n",
      "     ----------------------------------- -- 11.8/12.8 MB 249.3 kB/s eta 0:00:05\n",
      "     ----------------------------------- -- 11.8/12.8 MB 249.3 kB/s eta 0:00:05\n",
      "     ----------------------------------- -- 11.8/12.8 MB 249.3 kB/s eta 0:00:05\n",
      "     ----------------------------------- -- 12.1/12.8 MB 253.8 kB/s eta 0:00:03\n",
      "     ----------------------------------- -- 12.1/12.8 MB 253.8 kB/s eta 0:00:03\n",
      "     ----------------------------------- -- 12.1/12.8 MB 253.8 kB/s eta 0:00:03\n",
      "     ----------------------------------- -- 12.1/12.8 MB 253.8 kB/s eta 0:00:03\n",
      "     ------------------------------------ - 12.3/12.8 MB 255.1 kB/s eta 0:00:02\n",
      "     ------------------------------------ - 12.3/12.8 MB 255.1 kB/s eta 0:00:02\n",
      "     ------------------------------------ - 12.3/12.8 MB 255.1 kB/s eta 0:00:02\n",
      "     ------------------------------------ - 12.3/12.8 MB 255.1 kB/s eta 0:00:02\n",
      "     ------------------------------------ - 12.3/12.8 MB 255.1 kB/s eta 0:00:02\n",
      "     -------------------------------------  12.6/12.8 MB 255.8 kB/s eta 0:00:01\n",
      "     -------------------------------------  12.6/12.8 MB 255.8 kB/s eta 0:00:01\n",
      "     -------------------------------------  12.6/12.8 MB 255.8 kB/s eta 0:00:01\n",
      "     -------------------------------------  12.6/12.8 MB 255.8 kB/s eta 0:00:01\n",
      "     -------------------------------------- 12.8/12.8 MB 255.4 kB/s eta 0:00:00\n",
      "\u001b[38;5;2m✔ Download and installation successful\u001b[0m\n",
      "You can now load the package via spacy.load('en_core_web_sm')\n"
     ]
    }
   ],
   "source": [
    "!python -m spacy download en_core_web_sm"
   ]
  },
  {
   "cell_type": "code",
   "execution_count": 8,
   "metadata": {
    "execution": {
     "iopub.execute_input": "2025-04-19T12:32:46.574035Z",
     "iopub.status.busy": "2025-04-19T12:32:46.573713Z",
     "iopub.status.idle": "2025-04-19T12:32:46.587580Z",
     "shell.execute_reply": "2025-04-19T12:32:46.586847Z",
     "shell.execute_reply.started": "2025-04-19T12:32:46.573997Z"
    },
    "trusted": true
   },
   "outputs": [],
   "source": [
    "nlp = spacy.load(\"en_core_web_sm\")\n",
    "\n",
    "def preprocess_text(text):\n",
    "    if not isinstance(text, str):\n",
    "        return \"\"\n",
    "\n",
    "    # Remove HTML tags\n",
    "    text = re.sub(r'<.*?>', '', text)\n",
    "\n",
    "    # Remove Markdown images and HTML images\n",
    "    text = re.sub(r'!\\[.*?\\]\\(.*?\\)', '', text)  # Markdown-style ![alt](url)\n",
    "    text = re.sub(r'<img[^>]*>', '', text)       # HTML-style <img ... >\n",
    "\n",
    "    # Remove URLs\n",
    "    text = re.sub(r'http\\S+|www\\S+|https\\S+', '', text)\n",
    "\n",
    "    # Remove email addresses\n",
    "    text = re.sub(r'\\S+@\\S+', '', text)\n",
    "\n",
    "    # Remove hashtags\n",
    "    text = re.sub(r'#\\w+', '', text)\n",
    "\n",
    "    # Normalize whitespace\n",
    "    text = re.sub(r'\\s+', ' ', text).strip()\n",
    "\n",
    "    # Remove non-ASCII characters\n",
    "    text = re.sub(r'[^\\x00-\\x7F]+', '', text)\n",
    "\n",
    "    # NLP: lowercase, remove stopwords, lemmatize\n",
    "    doc = nlp(text.lower())\n",
    "    cleaned_tokens = [token.lemma_ for token in doc if not token.is_stop and not token.is_punct]\n",
    "\n",
    "    return ' '.join(cleaned_tokens)\n"
   ]
  },
  {
   "cell_type": "code",
   "execution_count": 9,
   "metadata": {},
   "outputs": [],
   "source": [
    "cleaned_data = []\n",
    "\n",
    "for item in data:\n",
    "    cleaned_entry = {\n",
    "        \"id\": item.get(\"id\"),\n",
    "        \"title\": preprocess_text(item.get(\"title\", \"\")),\n",
    "        \"content\": preprocess_text(item.get(\"publication_description\", \"\")),\n",
    "        \"username\": preprocess_text(item.get(\"username\", \"\"))\n",
    "    }\n",
    "    cleaned_data.append(cleaned_entry)"
   ]
  },
  {
   "cell_type": "code",
   "execution_count": 10,
   "metadata": {},
   "outputs": [
    {
     "data": {
      "text/plain": [
       "dict_keys(['id', 'title', 'content', 'username'])"
      ]
     },
     "execution_count": 10,
     "metadata": {},
     "output_type": "execute_result"
    }
   ],
   "source": [
    "cleaned_data[0].keys()"
   ]
  },
  {
   "cell_type": "code",
   "execution_count": 11,
   "metadata": {},
   "outputs": [],
   "source": [
    "documents_with_metadata = [\n",
    "    Document(page_content=item[\"content\"], metadata={\n",
    "        \"id\": item[\"id\"],\n",
    "        \"title\": item[\"title\"],\n",
    "        \"username\": item[\"username\"]\n",
    "    })\n",
    "    for item in cleaned_data\n",
    "]"
   ]
  },
  {
   "cell_type": "code",
   "execution_count": 12,
   "metadata": {},
   "outputs": [
    {
     "data": {
      "text/plain": [
       "35"
      ]
     },
     "execution_count": 12,
     "metadata": {},
     "output_type": "execute_result"
    }
   ],
   "source": [
    "len(documents_with_metadata)"
   ]
  },
  {
   "cell_type": "code",
   "execution_count": 13,
   "metadata": {
    "execution": {
     "iopub.execute_input": "2025-04-19T12:32:58.692358Z",
     "iopub.status.busy": "2025-04-19T12:32:58.692070Z",
     "iopub.status.idle": "2025-04-19T12:32:59.607529Z",
     "shell.execute_reply": "2025-04-19T12:32:59.606635Z",
     "shell.execute_reply.started": "2025-04-19T12:32:58.692330Z"
    },
    "trusted": true
   },
   "outputs": [
    {
     "name": "stdout",
     "output_type": "stream",
     "text": [
      "{'id': '0CBAR8U8FakE', 'title': 'add memory rag application ai agent', 'username': '3rdson', 'chunk_number': 1, 'content': '5 month build rag application build rag application realise need add memory move production go youtube search video not find meaningful see video video not add persistent memory production ready rag application talk add memory storage rag application unsuitable scale application realize need figure thing write good article guide reader thought process step need add memory rag application ai agent quick note build streamlit follow tutorial find easy way add memory streamlit app pre requisite 1 jump discussion want believe know rag need unfamiliar concept read 2 want believe know build rag application want learn build rag application follow previous article 3 tutorial mongodb traditional database langchain llm framework openai gpt 3.5turbo llm use technology choice understand workflow 4 follow ` pip install ` library ` ` ` openai python dotenv langchain openai pymongo ` ` ` good memory rag application ai agent need let use chatgpt example ask chatgpt question like ` current president america ` tell ` joe biden ` ask old chatgpt tell ` 88 ` question chatg'}\n",
      "{'id': '0CBAR8U8FakE', 'title': 'add memory rag application ai agent', 'username': '3rdson', 'chunk_number': 2, 'content': ' ask chatgpt question like ` current president america ` tell ` joe biden ` ask old chatgpt tell ` 88 ` question chatgpt able relate second question question answer need specific question simple answer presence memory like way human being easily relate past experience question chatgpt build memory help know ask question relate previous question simple definition regard rag ai agent memory add memory rag application mean make ai agent able inference previous question new answer base new question previous question previous answer know memory question add memory rag ai agent concept come human being memory brain store information answer decision base information(data store brain achieve build ai agent rag application need rag application brain include follow 1 database store user question ais answer chat id user email etc 2 function retrieve user previous question new question ask 3 function use llm check current question relate previous relate create new stand question present question previous question question embed send vector database ai agent depend build present question relate past question send question create database store user question ais answer pymongo create mongo database understanding kind'}\n"
     ]
    }
   ],
   "source": [
    "token_splitter = TokenTextSplitter(\n",
    "    encoding_name=\"cl100k_base\",\n",
    "    chunk_size=200,\n",
    "    chunk_overlap=30\n",
    ")\n",
    "\n",
    "chunked_documents = []\n",
    "\n",
    "for doc in documents_with_metadata:\n",
    "    chunks = token_splitter.split_text(doc.page_content)\n",
    "    for i, chunk in enumerate(chunks, 1):\n",
    "        chunked_doc = {\n",
    "            \"id\": doc.metadata.get(\"id\", None),\n",
    "            \"title\": doc.metadata.get(\"title\", None),\n",
    "            \"username\": doc.metadata.get(\"username\", None),\n",
    "            \"chunk_number\": i,\n",
    "            \"content\": chunk\n",
    "        }\n",
    "        chunked_documents.append(chunked_doc)\n",
    "\n",
    "# Output first two chunks\n",
    "for item in chunked_documents[:2]:\n",
    "    print(item)"
   ]
  },
  {
   "cell_type": "code",
   "execution_count": 14,
   "metadata": {},
   "outputs": [
    {
     "data": {
      "text/plain": [
       "list"
      ]
     },
     "execution_count": 14,
     "metadata": {},
     "output_type": "execute_result"
    }
   ],
   "source": [
    "type(chunked_documents)"
   ]
  },
  {
   "cell_type": "code",
   "execution_count": 15,
   "metadata": {
    "execution": {
     "iopub.execute_input": "2025-04-19T12:32:59.608795Z",
     "iopub.status.busy": "2025-04-19T12:32:59.608472Z",
     "iopub.status.idle": "2025-04-19T12:32:59.615401Z",
     "shell.execute_reply": "2025-04-19T12:32:59.614602Z",
     "shell.execute_reply.started": "2025-04-19T12:32:59.608764Z"
    },
    "trusted": true
   },
   "outputs": [],
   "source": [
    "langchain_chunks = [\n",
    "    Document(page_content=doc[\"content\"], metadata={\n",
    "        \"id\": doc[\"id\"],\n",
    "        \"title\": doc[\"title\"],\n",
    "        \"username\": doc[\"username\"],\n",
    "        \"chunk_number\": doc[\"chunk_number\"]\n",
    "    })\n",
    "    for doc in chunked_documents\n",
    "]"
   ]
  },
  {
   "cell_type": "code",
   "execution_count": 16,
   "metadata": {},
   "outputs": [
    {
     "data": {
      "text/plain": [
       "558"
      ]
     },
     "execution_count": 16,
     "metadata": {},
     "output_type": "execute_result"
    }
   ],
   "source": [
    "len(langchain_chunks)"
   ]
  },
  {
   "cell_type": "code",
   "execution_count": 17,
   "metadata": {
    "execution": {
     "iopub.execute_input": "2025-04-19T12:32:59.616423Z",
     "iopub.status.busy": "2025-04-19T12:32:59.616199Z",
     "iopub.status.idle": "2025-04-19T12:33:29.355748Z",
     "shell.execute_reply": "2025-04-19T12:33:29.355030Z",
     "shell.execute_reply.started": "2025-04-19T12:32:59.616400Z"
    },
    "trusted": true
   },
   "outputs": [
    {
     "name": "stderr",
     "output_type": "stream",
     "text": [
      "<All keys matched successfully>\n"
     ]
    }
   ],
   "source": [
    "device = \"cuda\" if torch.cuda.is_available() else \"cpu\"\n",
    "\n",
    "embedding_model = HuggingFaceEmbeddings(\n",
    "    model_name=\"nomic-ai/nomic-embed-text-v1\",\n",
    "    model_kwargs={\"trust_remote_code\": True,\n",
    "                 \"device\": device}\n",
    ")\n",
    "\n",
    "persist_directory = \"vectordb\"\n",
    "\n",
    "vectorstore = Chroma.from_documents(\n",
    "    documents=langchain_chunks,\n",
    "    embedding=embedding_model,\n",
    "    persist_directory=persist_directory\n",
    ")"
   ]
  },
  {
   "cell_type": "code",
   "execution_count": 19,
   "metadata": {
    "execution": {
     "iopub.execute_input": "2025-04-19T12:33:29.357260Z",
     "iopub.status.busy": "2025-04-19T12:33:29.356575Z",
     "iopub.status.idle": "2025-04-19T12:35:38.993389Z",
     "shell.execute_reply": "2025-04-19T12:35:38.992761Z",
     "shell.execute_reply.started": "2025-04-19T12:33:29.357236Z"
    },
    "trusted": true
   },
   "outputs": [],
   "source": [
    "from langchain_groq import ChatGroq\n",
    "\n",
    "api_key = \"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\"\n",
    "\n",
    "llm = ChatGroq(\n",
    "            model=\"llama3-8b-8192\",\n",
    "            temperature=0.8,\n",
    "            groq_api_key=api_key\n",
    "        )"
   ]
  },
  {
   "cell_type": "code",
   "execution_count": 20,
   "metadata": {
    "execution": {
     "iopub.execute_input": "2025-04-19T12:35:38.994301Z",
     "iopub.status.busy": "2025-04-19T12:35:38.994091Z",
     "iopub.status.idle": "2025-04-19T12:35:38.997892Z",
     "shell.execute_reply": "2025-04-19T12:35:38.997014Z",
     "shell.execute_reply.started": "2025-04-19T12:35:38.994282Z"
    },
    "trusted": true
   },
   "outputs": [],
   "source": [
    "retrieve = vectorstore.as_retriever(search_type=\"similarity\", search_kwargs={\"k\": 2})"
   ]
  },
  {
   "cell_type": "code",
   "execution_count": 21,
   "metadata": {},
   "outputs": [
    {
     "data": {
      "text/plain": [
       "[Document(id='2e1ddf70-5b70-4fc3-94c3-140273fc6972', metadata={'title': 'add memory rag application ai agent', 'chunk_number': 1, 'id': '0CBAR8U8FakE', 'username': '3rdson'}, page_content='5 month build rag application build rag application realise need add memory move production go youtube search video not find meaningful see video video not add persistent memory production ready rag application talk add memory storage rag application unsuitable scale application realize need figure thing write good article guide reader thought process step need add memory rag application ai agent quick note build streamlit follow tutorial find easy way add memory streamlit app pre requisite 1 jump discussion want believe know rag need unfamiliar concept read 2 want believe know build rag application want learn build rag application follow previous article 3 tutorial mongodb traditional database langchain llm framework openai gpt 3.5turbo llm use technology choice understand workflow 4 follow ` pip install ` library ` ` ` openai python dotenv langchain openai pymongo ` ` ` good memory rag application ai agent need let use chatgpt example ask chatgpt question like ` current president america ` tell ` joe biden ` ask old chatgpt tell ` 88 ` question chatg'),\n",
       " Document(id='ca3329f0-d90d-4bc5-b742-b214ea4613be', metadata={'chunk_number': 18, 'title': 'build rag app pinecone openai langchain python', 'username': '3rdson', 'id': 'sBFzhbX4GpeQ'}, page_content=' > note build rag app potential error mention early one encounter follow code sample provide face issue solution implement rectify error potential error encounter pdf reading process cause improperly format pdf file nonetheless adhere outlined step able resolve issue effectively > happy rage reach x 3rdson linkedin victory nnaji github 3rd son')]"
      ]
     },
     "execution_count": 21,
     "metadata": {},
     "output_type": "execute_result"
    }
   ],
   "source": [
    "retrieve.invoke(\"rag application\")"
   ]
  },
  {
   "cell_type": "code",
   "execution_count": 22,
   "metadata": {
    "execution": {
     "iopub.execute_input": "2025-04-19T12:46:44.184867Z",
     "iopub.status.busy": "2025-04-19T12:46:44.184584Z",
     "iopub.status.idle": "2025-04-19T12:46:44.189196Z",
     "shell.execute_reply": "2025-04-19T12:46:44.188313Z",
     "shell.execute_reply.started": "2025-04-19T12:46:44.184845Z"
    },
    "trusted": true
   },
   "outputs": [
    {
     "name": "stderr",
     "output_type": "stream",
     "text": [
      "C:\\Users\\HP\\AppData\\Local\\Temp\\ipykernel_8732\\1378876084.py:1: LangChainDeprecationWarning: Please see the migration guide at: https://python.langchain.com/docs/versions/migrating_memory/\n",
      "  memory = ConversationBufferMemory(memory_key=\"chat_history\", return_messages=True)\n"
     ]
    }
   ],
   "source": [
    "memory = ConversationBufferMemory(memory_key=\"chat_history\", return_messages=True)\n",
    "\n",
    "qa_chain = ConversationalRetrievalChain.from_llm(\n",
    "    llm=llm,\n",
    "    retriever=retrieve,\n",
    "    memory=memory,\n",
    "    return_source_documents=False\n",
    ")"
   ]
  },
  {
   "cell_type": "code",
   "execution_count": 23,
   "metadata": {
    "execution": {
     "iopub.execute_input": "2025-04-19T12:46:45.623229Z",
     "iopub.status.busy": "2025-04-19T12:46:45.622907Z",
     "iopub.status.idle": "2025-04-19T12:48:12.614850Z",
     "shell.execute_reply": "2025-04-19T12:48:12.613883Z",
     "shell.execute_reply.started": "2025-04-19T12:46:45.623202Z"
    },
    "trusted": true
   },
   "outputs": [
    {
     "name": "stdout",
     "output_type": "stream",
     "text": [
      "Bot: I apologize, but it seems like there is no question in your prompt. Please rephrase or provide a question related to the given context, and I'll do my best to assist you.\n",
      "Bot: I don't know the answer to this question. The provided context appears to be a personal note or journal entry about building a RAG application, but it doesn't explicitly define what \"RAG application memory\" refers to. Without more context or information, I'm unable to provide a meaningful answer.\n",
      "Bot: Based on the provided context, here is the step-by-step guide to build a RAG (Read-Answer-Generate) application:\n",
      "\n",
      "**Step 1: Reading process**\n",
      "\n",
      "* Store datum (text) in a vector database\n",
      "* Read files such as PDFs, TXT, CSV, DOC, etc. in text format\n",
      "* Help work or divide text into chunks\n",
      "* Feed these chunks into an embed model\n",
      "\n",
      "**Step 2: Answer query information vector database**\n",
      "\n",
      "* Store the embedded chunks in a vector database\n",
      "* Choose an embed model for storing vector database\n",
      "* Upsert (insert or update) the embedded chunks in the vector database\n",
      "\n",
      "**Step 3: Combining embedding and chunk text**\n",
      "\n",
      "* Combine the embedding chunks to form a text-upsert vector database\n",
      "* Push the vector text database for later querying\n",
      "\n",
      "**Query database (later)**\n",
      "\n",
      "* Embed the query question vector\n",
      "* Pass the query vector to the vector database\n",
      "* LL (Large Language Model) helps provide a well-readable answer to the user\n",
      "\n",
      "Please note that this is a high-level overview, and the actual implementation may vary depending on the specific requirements and technologies chosen.\n"
     ]
    }
   ],
   "source": [
    "def new_session():\n",
    "    new_memory = ConversationBufferMemory(memory_key=\"chat_history\", return_messages=True)\n",
    "    qa_chain.memory = new_memory\n",
    "    print(\"\\n🔄 New context started!\")\n",
    "\n",
    "# Chat loop\n",
    "while True:\n",
    "    query = input(\"You: \")\n",
    "    if query.lower() == \"reset\":\n",
    "        new_session()\n",
    "        continue\n",
    "    elif query.lower() in [\"exit\", \"quit\"]:\n",
    "        break\n",
    "    response = qa_chain.invoke({\"question\": query})\n",
    "    print(\"Bot:\", response[\"answer\"])"
   ]
  },
  {
   "cell_type": "code",
   "execution_count": null,
   "metadata": {
    "trusted": true
   },
   "outputs": [],
   "source": []
  }
 ],
 "metadata": {
  "kaggle": {
   "accelerator": "nvidiaTeslaT4",
   "dataSources": [
    {
     "datasetId": 7091966,
     "sourceId": 11336938,
     "sourceType": "datasetVersion"
    }
   ],
   "dockerImageVersionId": 30919,
   "isGpuEnabled": true,
   "isInternetEnabled": true,
   "language": "python",
   "sourceType": "notebook"
  },
  "kernelspec": {
   "display_name": "Python 3",
   "language": "python",
   "name": "python3"
  },
  "language_info": {
   "codemirror_mode": {
    "name": "ipython",
    "version": 3
   },
   "file_extension": ".py",
   "mimetype": "text/x-python",
   "name": "python",
   "nbconvert_exporter": "python",
   "pygments_lexer": "ipython3",
   "version": "3.10.18"
  }
 },
 "nbformat": 4,
 "nbformat_minor": 4
}
